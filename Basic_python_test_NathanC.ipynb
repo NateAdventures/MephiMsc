{
  "nbformat": 4,
  "nbformat_minor": 0,
  "metadata": {
    "colab": {
      "provenance": []
    },
    "kernelspec": {
      "name": "python3",
      "display_name": "Python 3"
    },
    "language_info": {
      "name": "python"
    }
  },
  "cells": [
    {
      "cell_type": "code",
      "source": [
        "#библиотеки\n",
        "import random\n",
        "import string\n",
        "import time"
      ],
      "metadata": {
        "id": "BbS92t8aXXmY"
      },
      "execution_count": 80,
      "outputs": []
    },
    {
      "cell_type": "markdown",
      "source": [
        "**Задание 1**(4 балла)\n",
        "\n",
        "Дан текстовый файл, каждое предложение которого занимает одну строку. Напишите программу, которая разделяет текст на блоки — каждый блок состоит из нескольких предложений.\n",
        "Затем переворачивает порядок слов только внутри каждого предложения, не меняя порядок самих предложений в блоке.\n",
        "\n",
        "Файл содержит:\n",
        "\n",
        "Привет как дела\n",
        "\n",
        "На улице идет дождь\n",
        "\n",
        "Я люблю программирование\n"
      ],
      "metadata": {
        "id": "IwRSteSwWc2k"
      }
    },
    {
      "cell_type": "code",
      "execution_count": 63,
      "metadata": {
        "colab": {
          "base_uri": "https://localhost:8080/"
        },
        "id": "ZOcvgmNqWKdl",
        "outputId": "650ec463-c1c7-4808-cffa-23bc2b0800b7"
      },
      "outputs": [
        {
          "output_type": "stream",
          "name": "stdout",
          "text": [
            "дела как Привет\n",
            "дождь идет улице На\n",
            "программирование люблю Я\n"
          ]
        }
      ],
      "source": [
        "# Используем файл text.txt в котором я написал вышеупомянутые строки\n",
        "text = open(\"text.txt\", \"r\", encoding=\"utf-8\")\n",
        "\n",
        "# Убираем пробелы и переносы строк\n",
        "cleaned = []\n",
        "for line in text:\n",
        "    cleaned.append(line.strip())\n",
        "\n",
        "# Разбиваем текст на блоки\n",
        "blocks = []\n",
        "for i in range(0, len(cleaned)):\n",
        "    blocks.append(cleaned[i:i + 1])  # Добавляем новый блок\n",
        "\n",
        "# Переворачиваем слова в каждом предложении\n",
        "for block in blocks:\n",
        "    for sentence in block:\n",
        "        words = sentence.split()  # Разделяем предложение на слова\n",
        "        words.reverse()  # Переворачиваем порядок слов\n",
        "        new_sentence = \" \".join(words)  # Собираем обратно в строку\n",
        "        print(new_sentence)  # Выводим результат"
      ]
    },
    {
      "cell_type": "markdown",
      "source": [
        "**Задание 2**\n",
        "(2 балла)\n",
        "\n",
        "Напишите функцию, которая принимает строку и сжимает её определённым образом. Строки содержат произвольные символы, включая пробелы и спецсимволы, и требуют точного учета длины при кодировании.\n",
        "\n",
        "Примеры:\n",
        "\n",
        "вход: aaabbc → вывод: a3b2c,\n",
        "вход: abcd → вывод: abcd (так как сжатая равна)."
      ],
      "metadata": {
        "id": "2aSJb_sWWrt5"
      }
    },
    {
      "cell_type": "code",
      "source": [
        "# Функция для сжатия строки\n",
        "def compress_str(line):\n",
        "    result = \"\"\n",
        "    counter = 1  # Счетчик\n",
        "\n",
        "    for i in range(len(line) - 1):\n",
        "        if line[i] == line[i + 1]:  # Если следующий символ такой же\n",
        "            counter += 1\n",
        "        else:\n",
        "            if counter > 1:\n",
        "                result += line[i] + str(counter)\n",
        "            else:\n",
        "                result += line[i]\n",
        "            counter = 1\n",
        "\n",
        "    # Добавляем последний символ\n",
        "    if counter > 1:\n",
        "        result += line[-1] + str(counter)\n",
        "    else:\n",
        "        result += line[-1]\n",
        "\n",
        "    return result\n",
        "\n",
        "print(compress_str(\"aaabbc\"))\n",
        "print(compress_str(\"abcd\"))\n",
        "print(compress_str(\"Ваш пример\"))"
      ],
      "metadata": {
        "colab": {
          "base_uri": "https://localhost:8080/"
        },
        "id": "onK6mioBWx06",
        "outputId": "3f62d797-447e-44dc-ae3a-49e1745c5b80"
      },
      "execution_count": 64,
      "outputs": [
        {
          "output_type": "stream",
          "name": "stdout",
          "text": [
            "a3b2c\n",
            "abcd\n",
            "Ваш пример\n"
          ]
        }
      ]
    },
    {
      "cell_type": "markdown",
      "source": [
        "**Задание 3** (4 балла)\n",
        "\n",
        "Реализуйте функцию, которая проверяет, правильно ли расставлены скобки в строке (включая круглые, квадратные и фигурные скобки)."
      ],
      "metadata": {
        "id": "HOFq6nXMW1r1"
      }
    },
    {
      "cell_type": "code",
      "source": [
        "def good_brackets(brackets):\n",
        "    stack = []  #Используем список как стек\n",
        "    types = {')': '(', ']': '[', '}': '{'}  #Виды скобок\n",
        "    open = '({['\n",
        "    close = ')}]'\n",
        "\n",
        "    for char in brackets:\n",
        "        if char in open:\n",
        "            stack.append(char) #Скобку добавляем в стек\n",
        "        elif char in close:\n",
        "            if not stack or stack.pop() != types[char]: #Пусто или скобки не совпадают False\n",
        "                return False\n",
        "\n",
        "    return len(stack) == 0  #Если пусто в stack\n",
        "\n",
        "\n",
        "# Примеры использования\n",
        "print(good_brackets(\"()\"))        # True\n",
        "print(good_brackets(\"({[)]}\"))    # False\n",
        "print(good_brackets(\"()[]{}\"))    # True\n",
        "print(good_brackets(\"((())\"))     # False"
      ],
      "metadata": {
        "colab": {
          "base_uri": "https://localhost:8080/"
        },
        "id": "Z5O6yAK-W6bh",
        "outputId": "ea725cc7-52b2-4759-90f0-d154ae7c2748"
      },
      "execution_count": 65,
      "outputs": [
        {
          "output_type": "stream",
          "name": "stdout",
          "text": [
            "True\n",
            "False\n",
            "True\n",
            "False\n"
          ]
        }
      ]
    },
    {
      "cell_type": "markdown",
      "source": [
        "**Задание 4** (4 балла)\n",
        "\n",
        "Напишите функцию, которая генерирует пароль заданной длины. В реализации надо учитывать, что:\n",
        "\n",
        "Пароль должен содержать буквы, цифры и специальные символы.\n",
        "Длина пароля задается пользователем."
      ],
      "metadata": {
        "id": "EmQdebcLW68T"
      }
    },
    {
      "cell_type": "code",
      "source": [
        "def good_password(length):\n",
        "    # https://docs.python.org/3/library/string.html коллекция символов\n",
        "    l = string.ascii_letters\n",
        "    d = string.digits\n",
        "    s = string.punctuation\n",
        "    all_chars = l + d + s\n",
        "\n",
        "    # Создаем пустой пароль\n",
        "    password = []\n",
        "\n",
        "    # Добавляем символы, пока пароль не достигнет нужной длинны\n",
        "    while len(password) < length:\n",
        "        if len(password) % 3 == 0:\n",
        "            password.append(random.choice(l))\n",
        "        elif len(password) % 3 == 1:\n",
        "            password.append(random.choice(d))\n",
        "        else:\n",
        "            password.append(random.choice(s))\n",
        "\n",
        "    # Перемешиваем символы в пароле\n",
        "    random.shuffle(password)\n",
        "    return ''.join(password)\n",
        "\n",
        "length = int(input(\"Введите длину: \")) # Запрашиваем длинну у пользователя\n",
        "print(\"Пароль:\", good_password(length))"
      ],
      "metadata": {
        "colab": {
          "base_uri": "https://localhost:8080/"
        },
        "id": "qnCMDMdFW-cy",
        "outputId": "b5317049-a33b-4e0f-8c6c-a005013909d1"
      },
      "execution_count": 77,
      "outputs": [
        {
          "output_type": "stream",
          "name": "stdout",
          "text": [
            "Введите длину: 99\n",
            "Пароль: ~tuBicS4k28!r896a{&3693!t@>12MqJ,$=J4q5y63D7(135>{8'>[lm7vL(2292p6@#y8jzF),nI}s1!4_::#!@[u9TJ6t9;<#\n"
          ]
        }
      ]
    },
    {
      "cell_type": "markdown",
      "source": [
        "**Задание 5** (6 баллов)\n",
        "\n",
        "Напишите класс для симуляции работы электронной очереди, например, в банке."
      ],
      "metadata": {
        "id": "L2egK-GAW-3W"
      }
    },
    {
      "cell_type": "code",
      "source": [
        "class BankQueue:\n",
        "    def __init__(self):\n",
        "        self.queue = []\n",
        "        self.history = []\n",
        "\n",
        "    def add_client(self, name, priority=1): #Добавляет клиента в очередь VIP=2\n",
        "        enter = time.time()\n",
        "        self.queue.append((priority, enter, name))\n",
        "        self.queue.sort(reverse=True, key=lambda x: (x[0], x[1]))\n",
        "\n",
        "    def serve_client(self):\n",
        "        if not self.queue:\n",
        "            return \"Очередь пуста\"\n",
        "\n",
        "        priority, enter, name = self.queue.pop(0)  # Первый в очереди\n",
        "        wait_time = time.time() - enter  # Время ожидания\n",
        "        self.history.append((name, wait_time))  # Записываем в док\n",
        "        return f\"Обслужен: {name}, время в очереди: {wait_time:.2f} сек.\"\n",
        "\n",
        "    def report(self): #Выводит отчет по обслуженным клиентам\n",
        "        if not self.history:\n",
        "            return \"Отчет пуст\"\n",
        "\n",
        "        print(\"Отчет по обслуживанию:\")\n",
        "        for name, wait_time in self.history:\n",
        "            print(f\"{name}: {wait_time:.2f} сек.\")\n",
        "\n"
      ],
      "metadata": {
        "id": "diz964NkXDK7"
      },
      "execution_count": 88,
      "outputs": []
    },
    {
      "cell_type": "code",
      "source": [
        "queue = BankQueue()\n",
        "\n",
        "# Добавляем клиентов\n",
        "queue.add_client(\"Арнольд\", priority=1)  # Обычный клиент\n",
        "queue.add_client(\"Obi Wan\", priority=2)  # VIP клиент\n",
        "queue.add_client(\"Анастасия\", priority=1)  # Обычный клиент\n",
        "\n",
        "time.sleep(2)  # Имитируем ожидание\n",
        "\n",
        "# Обслуживаем клиентов\n",
        "print(queue.serve_client())\n",
        "print(queue.serve_client())\n",
        "print(queue.serve_client())\n",
        "\n",
        "# Выводим отчет\n",
        "queue.report()"
      ],
      "metadata": {
        "colab": {
          "base_uri": "https://localhost:8080/"
        },
        "id": "TU4gcw_ozLfU",
        "outputId": "f1525d27-b783-48a8-f9f0-b002c821ba8d"
      },
      "execution_count": 90,
      "outputs": [
        {
          "output_type": "stream",
          "name": "stdout",
          "text": [
            "Обслужен: Obi Wan, время в очереди: 2.00 сек.\n",
            "Обслужен: Анастасия, время в очереди: 2.00 сек.\n",
            "Обслужен: Арнольд, время в очереди: 2.00 сек.\n",
            "Отчет по обслуживанию:\n",
            "Obi Wan: 2.00 сек.\n",
            "Анастасия: 2.00 сек.\n",
            "Арнольд: 2.00 сек.\n"
          ]
        }
      ]
    },
    {
      "cell_type": "markdown",
      "source": [
        "**Задание 6** (2 балла)\n",
        "\n",
        "Напишите программу, которая проверяет, является ли строка палиндромом или «почти палиндромом». «Почти палиндром» означает, что можно удалить одну букву, чтобы строка стала палиндромом."
      ],
      "metadata": {
        "id": "yvWDEWHMXDmi"
      }
    },
    {
      "cell_type": "code",
      "source": [
        "def is_palindrome(s):\n",
        "    return s == s[::-1]\n",
        "\n",
        "def almost_palindrome(s):\n",
        "    rus = 'абвгдеёжзийклмнопрстуфхцчшщъыьэюя'\n",
        "    # Убираем пробелы\n",
        "    s = ''.join(s.lower().split())\n",
        "\n",
        "    if is_palindrome(s):\n",
        "        return \"Это палиндром\"\n",
        "\n",
        "    # Проверяем каждую позицию по букве\n",
        "    for i in range(len(s)):\n",
        "        for c in rus:\n",
        "            # Создаем новую строку с измененной буквой\n",
        "            new_s = s[:i] + c + s[i+1:]\n",
        "            if is_palindrome(new_s):\n",
        "                return \"Это почти палиндром\"\n",
        "\n",
        "    return \"Это не палиндром\"\n"
      ],
      "metadata": {
        "id": "gks3x4l0XHZT"
      },
      "execution_count": 112,
      "outputs": []
    },
    {
      "cell_type": "code",
      "source": [
        "word = input(\"Введите строку: \").lower().replace(\" \", \"\")  # Убираем пробелы\n",
        "\n",
        "if is_palindrome(word):\n",
        "    print(\"Это палиндром\")\n",
        "elif almost_palindrome(word):\n",
        "    print(\"Это почти палиндром\")\n",
        "else:\n",
        "    print(\"Это не палиндром\")"
      ],
      "metadata": {
        "colab": {
          "base_uri": "https://localhost:8080/"
        },
        "id": "9r48Ikbt2I2L",
        "outputId": "bb2ab7de-e0bc-41d5-9a77-f8be9f2b49df"
      },
      "execution_count": 113,
      "outputs": [
        {
          "output_type": "stream",
          "name": "stdout",
          "text": [
            "Введите строку: anma\n",
            "Это почти палиндром\n"
          ]
        }
      ]
    },
    {
      "cell_type": "markdown",
      "source": [
        "**Задание 7** (9 баллов)\n",
        "\n",
        "Разработайте программу, которая «стирает» фрагменты текста в файле. Например:\n",
        "\n",
        "Пользователь указывает файл и процент текста, который нужно удалить (например, 30%).\n",
        "Программа случайно выбирает слова или части абзацев и заменяет их на пробел или ..., сохраняя общий объем документа.\n",
        "\n",
        "Вход:\n",
        "\n",
        "«Сегодня солнечный день, и я собираюсь гулять в парке с моими друзьями.»\n",
        "\n",
        "Вывод (удалено ~30%):\n",
        "\n",
        "\n",
        "«Сегодня ... день, и я собираюсь гулять ... моими друзьями.»"
      ],
      "metadata": {
        "id": "QeYDrg4CXIA5"
      }
    },
    {
      "cell_type": "code",
      "source": [
        "def Shrodintext(story, percent):\n",
        "    file = open(story, 'r', encoding='utf-8')\n",
        "    text = file.read()\n",
        "\n",
        "    words = text.split()  # Разбиваем текст\n",
        "    n_words = len(words)\n",
        "    remove = int(n_words * percent / 100)\n",
        "\n",
        "    # Выбираем случайные индексы\n",
        "    remove_words = random.sample(range(n_words), remove)\n",
        "\n",
        "    # Заменяем выбранные слова на \"...\"\n",
        "    for index in remove_words:\n",
        "        words[index] = \"...\"\n",
        "\n",
        "    # Собираем текст обратно\n",
        "    shrod_text = \" \".join(words)\n",
        "\n",
        "    print(\"Обработанный текст:\\n\", shrod_text)\n",
        "\n",
        "    # Записываем в новый файл\n",
        "    with open(\"Shrodintext.txt\", 'w', encoding='utf-8') as file:\n",
        "        file.write(shrod_text)"
      ],
      "metadata": {
        "id": "conswSTZXTOn"
      },
      "execution_count": 139,
      "outputs": []
    },
    {
      "cell_type": "code",
      "source": [
        "Shrodintext('story.txt', 30)"
      ],
      "metadata": {
        "colab": {
          "base_uri": "https://localhost:8080/"
        },
        "id": "jia-KM8QAZbY",
        "outputId": "c5bec368-c8b2-47cd-af1e-c3e34e5e9b7a"
      },
      "execution_count": 140,
      "outputs": [
        {
          "output_type": "stream",
          "name": "stdout",
          "text": [
            "Обработанный текст:\n",
            " ... ... ... познании настолько ... ... ... ... ... ... ... ... триллионов ... ... ... ... ... ... ... ... ... ... ... ... Земля, ... ... ... ... ... ... ... ... ... ... ... ... ... ... и ... ... ... от ... с бесконечно ... ... ... ... ... ... и ... ... ... ... ... ... ... ... куда ни ... хоть ... ... ... ... ... ... ... ... ... ... ... ... ... ... ... ... ... ... ... ... ... ... ... ... ... ... ... ... ... ... ... ... ... ... ... ... ... ... по ... ... моим, понимаешь? ... ... ... ... ... ... ... старец, ... ... ... ... ... почти бессмертный, который ... этой ... ... ... ... зарождения, ... ... только Солнце ... ... ... звезда, ... ... ... газопылевое ... ... ... ... ... ... ... ... ... ... ... ... ... ... ... ... ... ... на ... ... ... ... ... ... пять ... лет ... ... ... ... ... и ... ... весь ... ... ... ... ... ... ... ... ... ... ... ... ... ... ... твои ... ... ... ... благо.\n"
          ]
        }
      ]
    }
  ]
}